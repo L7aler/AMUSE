{
 "cells": [
  {
   "cell_type": "markdown",
   "metadata": {},
   "source": [
    "AMUSE tutorial on units\n",
    "====================\n",
    "\n",
    "Here we will start up an AMUSE service in Jupyter notebook and run some example operations."
   ]
  },
  {
   "cell_type": "code",
   "execution_count": 1,
   "metadata": {},
   "outputs": [],
   "source": [
    "#Load in the amuse units module\n",
    "from amuse.units import units  "
   ]
  },
  {
   "cell_type": "code",
   "execution_count": 2,
   "metadata": {},
   "outputs": [],
   "source": [
    "# Declare some variables\n",
    "mstar = 1 | units.MSun\n",
    "rstar = 1 | units.RSun"
   ]
  },
  {
   "cell_type": "code",
   "execution_count": 3,
   "metadata": {},
   "outputs": [
    {
     "data": {
      "text/plain": [
       "quantity<1 MSun>"
      ]
     },
     "execution_count": 3,
     "metadata": {},
     "output_type": "execute_result"
    }
   ],
   "source": [
    "mstar"
   ]
  },
  {
   "cell_type": "code",
   "execution_count": 4,
   "metadata": {},
   "outputs": [],
   "source": [
    "# calculate surface escape speed\n",
    "# this requires the gravitational constant to be declared\n",
    "G = 6.67e-11 | units.m**3 * units.kg**-1 * units.s**-2\n",
    "vesc = (2*G*mstar/rstar).sqrt()"
   ]
  },
  {
   "cell_type": "code",
   "execution_count": 5,
   "metadata": {},
   "outputs": [
    {
     "name": "stdout",
     "output_type": "stream",
     "text": [
      "The escape speed is: 1.15498917744e-05 53476144765.21653 * m * s**-1\n"
     ]
    }
   ],
   "source": [
    "print(\"The escape speed is:\", vesc)"
   ]
  },
  {
   "cell_type": "markdown",
   "metadata": {},
   "source": [
    "This looks weard, right? But it is the right answer. AMUSE will operate on \"lazy calculating\", meaning that it will only perform the actual calculation once it is explicitely asked for it.\n",
    "Not try converting the unit to something more readable."
   ]
  },
  {
   "cell_type": "code",
   "execution_count": 6,
   "metadata": {},
   "outputs": [
    {
     "name": "stdout",
     "output_type": "stream",
     "text": [
      "The escape speed is: 617.64368455 kms\n"
     ]
    }
   ],
   "source": [
    "print(\"The escape speed is:\", vesc.in_(units.kms))"
   ]
  },
  {
   "cell_type": "raw",
   "metadata": {},
   "source": [
    "Now you have to realize, that you used the wrong value for the gravitational constant G. The values of most important constants are stored in the AMUSE framework. They can be accessed by loading in the appropriate module."
   ]
  },
  {
   "cell_type": "code",
   "execution_count": 7,
   "metadata": {},
   "outputs": [
    {
     "data": {
      "text/plain": [
       "quantity<6.67e-11 m**3 * kg**-1 * s**-2>"
      ]
     },
     "execution_count": 7,
     "metadata": {},
     "output_type": "execute_result"
    }
   ],
   "source": [
    "G"
   ]
  },
  {
   "cell_type": "code",
   "execution_count": 8,
   "metadata": {},
   "outputs": [
    {
     "name": "stdout",
     "output_type": "stream",
     "text": [
      "The escape speed is: 617.841817311 kms\n"
     ]
    }
   ],
   "source": [
    "from amuse.units.constants import G\n",
    "vesc = (2*G*mstar/rstar).sqrt()\n",
    "print(\"The escape speed is:\", vesc.in_(units.kms))"
   ]
  },
  {
   "cell_type": "markdown",
   "metadata": {},
   "source": [
    "You have now calculated the escape speed from the Solar surface.\n",
    "\n",
    "Assignmnets and questions:\n",
    "---------------\n",
    "\n",
    "### Assignment 1:\n",
    "Calculate the escape speed of the supermassive black hole in the Galactic center.\n",
    "\n",
    "### Assignment 2:\n",
    "Calculate the orbital velocity of the planet Earth in orbit around the Sun.\n",
    "\n",
    "### Assignment 3:\n",
    "Calculate the typical velocity at which an asteroid hits the Earth surface.\n",
    "\n",
    "### Question 1:\n",
    "What is the range in velocities with which you expect an asteroids to hit the Earth's surface.\n",
    "\n",
    "### Question 2:\n",
    "With a photospheric effective temporature of 5772K (see [Wikipedia](https://en.wikipedia.org/wiki/Sun)), what is the Sun's luminosity?\n",
    "*note here that the Stefan-Bolzmann constant in AMUSE is available in the units.constants package under the name of Stefan_hyphen_Boltzmann_constant.*\n",
    "\n",
    "Calculate the difference with the standard in AMUSE available solar luminosity (1 | units.LSun). Whay are the two values different?\n",
    "\n",
    "If the discrepancy originates from the photospheric effective temperature from Wikipedia, what would be the correct temperature to match the Solar luminosity?"
   ]
  },
  {
   "cell_type": "code",
   "execution_count": 9,
   "metadata": {},
   "outputs": [
    {
     "name": "stdout",
     "output_type": "stream",
     "text": [
      "The escape speed is: 617.841817311 kms\n"
     ]
    }
   ],
   "source": [
    "#Assignment 1\n",
    "from amuse.units.constants import c\n",
    "import numpy as np\n",
    "\n",
    "mbh = 4E6 | units.MSun #assuming this to be the mass of the BH of the Milky Way center \n",
    "rbh = (2*G*mbh/c**2)\n",
    "vesc = (2*G*mstar/rstar).sqrt()\n",
    "#vesc = np.sqrt((2*G*mstar/rstar))\n",
    "print(\"The escape speed is:\", vesc.in_(units.kms))"
   ]
  },
  {
   "cell_type": "code",
   "execution_count": 10,
   "metadata": {},
   "outputs": [
    {
     "name": "stdout",
     "output_type": "stream",
     "text": [
      "The orbital velocity is: 29.7882556102 kms\n"
     ]
    }
   ],
   "source": [
    "#Assignment 2 \n",
    "#d = 1.496E11 / 6.96E8 | units.RSun \n",
    "d = 1.496E11 | units.m\n",
    "msun = 1 | units.MSun\n",
    "vorb = np.sqrt(G*msun / d)\n",
    "#vorb = (G*msun/d).sqrt()\n",
    "print(\"The orbital velocity is:\", vorb.in_(units.kms))"
   ]
  },
  {
   "cell_type": "markdown",
   "metadata": {},
   "source": [
    "#### Assignment 3\n",
    "We assume that the asteroid originates from the asteroid belt which has an orbit of semi-major axis of $\\approx$ 3 AU. Employing energy conservation we find that the velocity of such an asteroid once it crosses the earth orbit ($a_E \\approx$ 1 AU) is given by $v=\\sqrt{\\frac{5GM}{3a_E}}$, where $M$ is the solar mass. In this neglect effects of the Earth atmosphere on the impact velocity of the asteroid. We've also assumed a stationary Earth."
   ]
  },
  {
   "cell_type": "code",
   "execution_count": 15,
   "metadata": {},
   "outputs": [
    {
     "name": "stdout",
     "output_type": "stream",
     "text": [
      "Typical velocity at which an asteroid hits Earth:  38.4567463154 kms\n"
     ]
    }
   ],
   "source": [
    "d = 1 | units.au\n",
    "vimp = (5*G*mstar/(3*d)).sqrt()\n",
    "print('Typical velocity at which an asteroid hits Earth: ', vimp.in_(units.kms))"
   ]
  },
  {
   "cell_type": "markdown",
   "metadata": {},
   "source": [
    "#### Question 1 \n",
    "We now account for the fact that Earth is orbiting the Sun itself. Hence performing a galilean transformation of the asteroid velocity we find the range of impact velocity to be:"
   ]
  },
  {
   "cell_type": "code",
   "execution_count": 17,
   "metadata": {},
   "outputs": [
    {
     "name": "stdout",
     "output_type": "stream",
     "text": [
      "Imapct velociyt range:  68.2450019256 kms - 8.66849070521 kms\n"
     ]
    }
   ],
   "source": [
    "vimp_up = vimp + vorb\n",
    "vimp_low = vimp - vorb\n",
    "print('Imapct velociyt range: ', vimp_up.in_(units.kms), '-', vimp_low.in_(units.kms))"
   ]
  },
  {
   "cell_type": "markdown",
   "metadata": {},
   "source": [
    "#### Question 2"
   ]
  },
  {
   "cell_type": "code",
   "execution_count": 32,
   "metadata": {},
   "outputs": [
    {
     "name": "stdout",
     "output_type": "stream",
     "text": [
      "Solar Luminosity:  3.825807535511534e+26 W\n",
      "Delta:  0.0034364325315096034 LSun\n"
     ]
    }
   ],
   "source": [
    "T = 5772 | units.K\n",
    "#o = 5.67E-8 | units.W * units.m**(-2) * units.K**(-4)\n",
    "o = units.constants.Stefan_hyphen_Boltzmann_constant\n",
    "L = o * 4 * np.pi * rstar**2 * T**4\n",
    "print('Solar Luminosity: ', L.in_(units.W))\n",
    "delta = abs((1 | units.LSun) - L)\n",
    "print('Delta: ', delta)"
   ]
  },
  {
   "cell_type": "markdown",
   "metadata": {},
   "source": [
    "The difference could originate from the temperature value retrieved from Wikipedia, this value is only given in 4 significant figures and as a result the rounding errors lead to the disrapency  "
   ]
  },
  {
   "cell_type": "code",
   "execution_count": 34,
   "metadata": {},
   "outputs": [
    {
     "name": "stdout",
     "output_type": "stream",
     "text": [
      "5776.96944997 K\n"
     ]
    }
   ],
   "source": [
    "L = 1 | units.LSun\n",
    "T = 1 / rstar.sqrt() * (L / (4 * np.pi * o))**(1 / 4)\n",
    "print(T.in_(units.K))"
   ]
  },
  {
   "cell_type": "code",
   "execution_count": 35,
   "metadata": {},
   "outputs": [
    {
     "name": "stdout",
     "output_type": "stream",
     "text": [
      "5.6704e-08 W * m**-2 * K**-4\n"
     ]
    }
   ],
   "source": [
    "print(o)"
   ]
  },
  {
   "cell_type": "code",
   "execution_count": null,
   "metadata": {},
   "outputs": [],
   "source": []
  }
 ],
 "metadata": {
  "kernelspec": {
   "display_name": "Python 3 (ipykernel)",
   "language": "python",
   "name": "python3"
  },
  "language_info": {
   "codemirror_mode": {
    "name": "ipython",
    "version": 3
   },
   "file_extension": ".py",
   "mimetype": "text/x-python",
   "name": "python",
   "nbconvert_exporter": "python",
   "pygments_lexer": "ipython3",
   "version": "3.8.10"
  }
 },
 "nbformat": 4,
 "nbformat_minor": 4
}
