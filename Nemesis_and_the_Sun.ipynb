{
 "cells": [
  {
   "cell_type": "markdown",
   "metadata": {},
   "source": [
    "AMUSE tutorial on modules and channels\n",
    "====================\n",
    "\n",
    "AMUSE is composed of domain-specific modules (i.e. the physics modules), which are often written in some native compiled language, and data-handling.\n",
    "the latter tends to be confusing for novel users.\n",
    "Data representation in AMUSE is often replicated.\n",
    "So can there be a parameter *mass* to indicate a property of a star in a stellar-evolution code, in a gravitational dynamics code and in your user script. These three parameters *mass* can mean the same, or they can have a different meaning. This makes running amuse somewhat confusing at times.\n",
    "Here we show how to formally separate these data streams.\n",
    "\n",
    "But first we will enter the realm of modules."
   ]
  },
  {
   "cell_type": "code",
   "execution_count": 298,
   "metadata": {},
   "outputs": [],
   "source": [
    "#Load in the amuse units module, the particle module and \n",
    "# some generator for producing some conditions.\n",
    "from amuse.units import units, constants\n",
    "from amuse.lab import Particles"
   ]
  },
  {
   "cell_type": "markdown",
   "metadata": {},
   "source": [
    "We now like to generate the Solar system, as it was observed on April 5th 2063 using the [JPL emphemeris](https://ssd.jpl.nasa.gov/horizons.cgi#top).\n",
    "Let's start with the inner most planet, Mercury, in the Sun's barycenter, which gives the following output:\n",
    "\n",
    "*******************************************************************************\n",
    "$$SOE\n",
    "2474649.500000000 = A.D. 2063-Apr-05 00:00:00.0000 TDB \n",
    " X =-2.689701945882702E-01 Y = 1.947622508089924E-01 Z = 4.148911797144442E-02\n",
    " VX=-2.230751806031045E-02 VY=-2.157655548570704E-02 VZ= 2.791759037949523E-04\n",
    " LT= 1.932846451835678E-03 RG= 3.346619889187973E-01 RR= 5.406475142917982E-03\n",
    " \n",
    "We can use these to start an AMUSE particle set, as follows"
   ]
  },
  {
   "cell_type": "code",
   "execution_count": 299,
   "metadata": {},
   "outputs": [],
   "source": [
    "Sun = Particles(1)\n",
    "Sun.mass = 1 | units.MSun\n",
    "Sun.position = (0,0,0) | units.km\n",
    "Sun.velocity = (0,0,0) | units.km/units.s\n",
    "planets = Particles(8)\n",
    "planets[0].mass = 3.302e+23 | units.kg # also according to JPL)\n",
    "planets[0].position = (-2.689701945882702E-01,\n",
    "                       1.947622508089924E-01,\n",
    "                       4.148911797144442E-02) | units.au\n",
    "planets[0].velocity = (-2.230751806031045E-02,\n",
    "                       -2.157655548570704E-02,\n",
    "                       2.791759037949523E-04) | units.au/units.yr"
   ]
  },
  {
   "cell_type": "markdown",
   "metadata": {},
   "source": [
    "And continue doing this for the other 7 planets.\n",
    "Then add the Sun and we have the Solar system's particle set.\n",
    "It would be easier if there is a handy routine with the same effect, in particular because of frequently will be using the Solar system as some sort of template for a rather typical planetary system, or for specifically sutdying this planetary system. We therefore have a handy routine that gives allows us to initialize the Solar system."
   ]
  },
  {
   "cell_type": "code",
   "execution_count": 300,
   "metadata": {},
   "outputs": [
    {
     "name": "stdout",
     "output_type": "stream",
     "text": [
      "|S8\n",
      "                 key         mass         name       radius           vx           vy           vz            x            y            z\n",
      "                   -         MSun         none         RSun       km / s       km / s       km / s           AU           AU           AU\n",
      "====================  ===========  ===========  ===========  ===========  ===========  ===========  ===========  ===========  ===========\n",
      "13752587093574097832    1.000e+00          SUN    1.000e+00   -1.874e-03   -1.560e-02    1.104e-04   -8.354e-03    1.923e-03    2.145e-04\n",
      " 8342027849583256292    1.660e-07      MERCURY    5.654e-03    1.032e+01   -4.214e+01   -4.388e+00   -3.923e-01   -1.749e-01    2.101e-02\n",
      " 9393699100414041471    2.448e-06        VENUS    1.403e-02   -1.704e+01    3.049e+01    1.401e+00    6.251e-01    3.518e-01   -3.157e-02\n",
      "17408050872179155351    3.040e-06     EARTHMOO    1.482e-02    2.844e+01    6.966e+00    1.301e-04    2.337e-01   -9.855e-01    2.100e-04\n",
      "14850583428464267834    3.227e-07         MARS    7.853e-03   -2.299e+01    5.985e+00    6.908e-01    2.435e-01    1.528e+00    2.599e-02\n",
      " 7983021458307047247    9.548e-04      JUPITER    1.619e-01    2.872e+00    1.331e+01   -1.194e-01    4.833e+00   -1.158e+00   -1.034e-01\n",
      "12650977282405683518    2.859e-04       SATURN    1.342e-01   -4.794e+00    8.639e+00    4.001e-02    8.335e+00    4.127e+00   -4.033e-01\n",
      " 1007364216008131349    4.366e-05       URANUS    5.834e-02    5.131e+00    4.103e+00   -5.124e-02    1.289e+01   -1.511e+01   -2.231e-01\n",
      " 5028972974150481456    5.151e-05      NEPTUNE    5.572e-02    4.640e+00    2.804e+00   -1.647e-01    1.537e+01   -2.592e+01    1.795e-01\n",
      " 6451767505733681558    7.396e-09        PLUTO    3.413e-03    5.144e+00   -2.956e+00   -1.172e+00   -1.152e+01   -2.708e+01    6.229e+00\n",
      "====================  ===========  ===========  ===========  ===========  ===========  ===========  ===========  ===========  ===========\n"
     ]
    }
   ],
   "source": [
    "from amuse.ext.solarsystem import new_solar_system\n",
    "sun_and_planets = new_solar_system()\n",
    "#sun_and_planets = sun_and_planets[0].as_set()\n",
    "print(sun_and_planets)"
   ]
  },
  {
   "cell_type": "markdown",
   "metadata": {},
   "source": [
    "We adopted the module `ext.new_solar_system` to generate a ready-made solar system. You can also make a solar system that includes it's moons. For this you will have to use the routine \n",
    "'new_lunar_system', which is a module from the 'amuse.ic.solar_system_moons' package.\n",
    "\n",
    "Now, plot the positions of the sun and planets in the orbital plane."
   ]
  },
  {
   "cell_type": "code",
   "execution_count": 301,
   "metadata": {},
   "outputs": [
    {
     "data": {
      "image/png": "[encoded data removed]",
      "text/plain": [
       "<Figure size 432x288 with 1 Axes>"
      ]
     },
     "metadata": {
      "needs_background": "light"
     },
     "output_type": "display_data"
    }
   ],
   "source": [
    "import matplotlib.pyplot as plt\n",
    "from amuse.plot import scatter\n",
    "fig = plt.figure()\n",
    "ax = fig.add_subplot(projection='3d')\n",
    "\n",
    "x = sun_and_planets.position[:, 0]\n",
    "y = sun_and_planets.position[:, 1]\n",
    "z = sun_and_planets.position[:, 2]\n",
    "#print(x, y, z)\n",
    "\n",
    "#x = [-0.00835408821766, -0.392320105637, 0.625115069698, 0.233739853966, 0.243476929903, 4.83307735425, 8.33501263003, 12.8860154739, 15.3713430266, -11.5179164835]\n",
    "#y = [0.0019229394648, -0.174942361391, 0.351778173567, -0.985544827234, 1.52791277062, -1.15839710456, 4.12672150359, -15.1092284622, -25.9173916705, -27.0760209435]\n",
    "#z = [0.000214547107396, 0.0210104685073, -0.0315707701015, 0.000210004344471, 0.0259926608886, -0.103407497364, -0.403308870007, -0.223093031785, 0.179473320058, 6.22892988278]\n",
    "#ax.scatter(x, y, z)"
   ]
  },
  {
   "cell_type": "markdown",
   "metadata": {},
   "source": [
    "In 1984  \n",
    "[Whitemire and Jackson](https://ui.adsabs.harvard.edu/abs/1984Natur.308..713W/abstract) and [Davies et al 1984](\n",
    "https://ui.adsabs.harvard.edu/abs/1984Natur.308..715D)([preprint](https://escholarship.org/uc/item/9gm5c682)) argued that the Solar system was orbited by a hypothetical star called nemesis, named after the goddess\n",
    "of Rhamnous who punished those who did not honor the Olympians.\n",
    "\n",
    "This companion to the Sun would have an orbital separation of about 95,000 au, and due to its interaction with the Oort cloud would initiate periodic comet shouwers in the inner Solar system; punishing life on Earth for being atheistic?\n",
    "\n",
    "Let's adopt the Solar system as we have just initialized and add Nemesis as an 0.2MSun main-sequence star in a 95,000 au orbit with an eccentricity of 0.7.\n",
    "\n",
    "Let's construct tha binary system of the Sun (without planets) and Nemesis."
   ]
  },
  {
   "cell_type": "code",
   "execution_count": 302,
   "metadata": {},
   "outputs": [
    {
     "name": "stdout",
     "output_type": "stream",
     "text": [
      "                 key         mass         name           vx           vy           vz            x            y            z\n",
      "                   -         MSun         none  3646245880.3572216 * m * s**-1  3646245880.3572216 * m * s**-1  3646245880.3572216 * m * s**-1  149597870691.0 * m  149597870691.0 * m  149597870691.0 * m\n",
      "====================  ===========  ===========  ===========  ===========  ===========  ===========  ===========  ===========\n",
      "11798242228499264562    1.001e+00    Companion    0.000e+00   -1.151e-08   -0.000e+00   -4.745e+03   -0.000e+00   -0.000e+00\n",
      "16912148738667916301    2.000e-01      Nemesis    0.000e+00    5.764e-08    0.000e+00    2.376e+04    0.000e+00    0.000e+00\n",
      "====================  ===========  ===========  ===========  ===========  ===========  ===========  ===========  ===========\n"
     ]
    }
   ],
   "source": [
    "msun = sun_and_planets.mass.sum()\n",
    "mnemesis = 0.2 | units.MSun\n",
    "a = 95000 | units.au\n",
    "e = 0.7\n",
    "from amuse.ext.orbital_elements import new_binary_from_orbital_elements\n",
    "sun_and_nemesis = new_binary_from_orbital_elements(msun, mnemesis, \n",
    "                                          a, e, G=constants.G)\n",
    "setattr(sun_and_nemesis, \"name\", [\"Companion\", \"Nemesis\"])\n",
    "print(sun_and_nemesis)"
   ]
  },
  {
   "cell_type": "markdown",
   "metadata": {},
   "source": [
    "Now, the sun in this binary-particle set and the sun in the Solar system particle-set do not have the same position."
   ]
  },
  {
   "cell_type": "code",
   "execution_count": 303,
   "metadata": {},
   "outputs": [
    {
     "name": "stdout",
     "output_type": "stream",
     "text": [
      "[[-0.00835408821766, 0.0019229394648, 0.000214547107396]] au\n",
      "[[-4744.69448798, -0.0, -0.0]] au\n"
     ]
    }
   ],
   "source": [
    "sun = sun_and_planets[sun_and_planets.name==\"SUN\"]\n",
    "print(sun.position.in_(units.au))\n",
    "print(sun_and_nemesis[sun_and_nemesis.mass>0.9|units.MSun].position.in_(units.au))\n",
    "#print(sun_and_nemesis.position.in_(units.au)[sun_and_nemesis.mass>0.9|units.MSun])   #gives the same"
   ]
  },
  {
   "cell_type": "markdown",
   "metadata": {},
   "source": [
    "And, equally wise they will have different velocity.\n",
    "\n",
    "however, we would like to adot these binary parameters for the Sun-Nemesis binary system. For this, we first move the entire Solar system to the Sun barycenter, move it to Nemesis' companion and add Nemesis.\n",
    "\n",
    "In clearer words (I think the above is rather poorly explained): Move the initial solarsystem to the Sun's (when alone) barycenter. Next, you add the position/velocity coordinates of the Sun (when in the binary system) to your solarsystem."
   ]
  },
  {
   "cell_type": "code",
   "execution_count": 304,
   "metadata": {},
   "outputs": [
    {
     "name": "stdout",
     "output_type": "stream",
     "text": [
      "                 key         mass         name       radius           vx           vy           vz            x            y            z\n",
      "                   -         MSun         none         RSun       km / s       km / s       km / s           AU           AU           AU\n",
      "====================  ===========  ===========  ===========  ===========  ===========  ===========  ===========  ===========  ===========\n",
      "13752587093574097832    1.000e+00          SUN    1.000e+00    0.000e+00   -4.198e-02    0.000e+00   -4.745e+03    0.000e+00    0.000e+00\n",
      " 8342027849583256292    1.660e-07      MERCURY    5.654e-03    1.032e+01   -4.217e+01   -4.389e+00   -4.745e+03   -1.769e-01    2.080e-02\n",
      " 9393699100414041471    2.448e-06        VENUS    1.403e-02   -1.704e+01    3.046e+01    1.400e+00   -4.744e+03    3.499e-01   -3.179e-02\n",
      "17408050872179155351    3.040e-06     EARTHMOO    1.482e-02    2.845e+01    6.939e+00    1.967e-05   -4.744e+03   -9.875e-01   -4.543e-06\n",
      "14850583428464267834    3.227e-07         MARS    7.853e-03   -2.298e+01    5.959e+00    6.907e-01   -4.744e+03    1.526e+00    2.578e-02\n",
      " 7983021458307047247    9.548e-04      JUPITER    1.619e-01    2.874e+00    1.329e+01   -1.196e-01   -4.740e+03   -1.160e+00   -1.036e-01\n",
      "12650977282405683518    2.859e-04       SATURN    1.342e-01   -4.792e+00    8.613e+00    3.990e-02   -4.736e+03    4.125e+00   -4.035e-01\n",
      " 1007364216008131349    4.366e-05       URANUS    5.834e-02    5.133e+00    4.076e+00   -5.135e-02   -4.732e+03   -1.511e+01   -2.233e-01\n",
      " 5028972974150481456    5.151e-05      NEPTUNE    5.572e-02    4.641e+00    2.777e+00   -1.648e-01   -4.729e+03   -2.592e+01    1.793e-01\n",
      " 6451767505733681558    7.396e-09        PLUTO    3.413e-03    5.146e+00   -2.982e+00   -1.172e+00   -4.756e+03   -2.708e+01    6.229e+00\n",
      "16912148738667916301    2.000e-01      Nemesis    0.000e+00    0.000e+00    2.102e-01    0.000e+00    2.376e+04    0.000e+00    0.000e+00\n",
      "====================  ===========  ===========  ===========  ===========  ===========  ===========  ===========  ===========  ===========\n"
     ]
    }
   ],
   "source": [
    "sun_and_planets.position -= sun.position\n",
    "sun_and_planets.velocity -= sun.velocity\n",
    "companion = sun_and_nemesis[sun_and_nemesis.name==\"Companion\"]\n",
    "nemesis = sun_and_nemesis[sun_and_nemesis.name==\"Nemesis\"]\n",
    "sun_and_planets.position += companion.position\n",
    "sun_and_planets.velocity += companion.velocity\n",
    "sun_and_planets.add_particle(sun_and_nemesis[1])\n",
    "print(sun_and_planets)"
   ]
  },
  {
   "cell_type": "markdown",
   "metadata": {},
   "source": [
    "You have created a hypothetical planetary system with the Sun, 8 planets and 1 dwarf planet (mimiking the Solar system), and a secondary star (Nemesis) in a wide and elliptic orbit.\n",
    "\n",
    "Assignmnets and questions:\n",
    "---------------\n",
    "\n",
    "### Assignment 1:\n",
    "To check the orbit of Nemesis around the Sun you can calculate the orbital elements from the Cartesian coordinates of the Sun and Nemesis. Perform this operation and check the orbital elements of the nemesis-Sun binary. \n",
    "\n",
    "### Question 1:\n",
    "When performing this assignment, we found that the orbit between the Sun and Nemesis is slightly off from what we put in. The semi-major axis is about 95,606 au with an eccentricity of about 0.702. \n",
    "\n",
    "Explain why the orbit is not what you anticipated it to be, and what can you do to mitigate this?\n",
    "\n",
    "### Assignment 2: \n",
    "Add 100 zero-mass Oort cloud object in circular orbits around the Sun with semi-major axes equally spaced between 10000au and 50000 au. Integrate those orbits for 10 full orbits of the Sun-Nemesis binary. Make a scatter plot of eccentricity as function of the semi-major axis for the initial and final Oort-cloud objects. Explain the figure.\n",
    "\n",
    "Be aware that 10 Nemesis periods is ~160 Myr, and running the system for that time will take a lot of time (about an hour). Start with shorter times and build up towards longer times when you know your code runs. You can also try different codes, and leaving out some planets. Is Mercury really that important? But leaving it out may let the code take greater timesteps.\n",
    "\n",
    "### Question 3:\n",
    "Do you think that Nemesis could be the cause of periodic cometary visitors?"
   ]
  },
  {
   "cell_type": "code",
   "execution_count": 143,
   "metadata": {},
   "outputs": [],
   "source": [
    "#Assignment 1\n",
    "# https://downloads.rene-schwarz.com/download/M002-Cartesian_State_Vectors_to_Keplerian_Orbit_Elements.pdf"
   ]
  },
  {
   "cell_type": "code",
   "execution_count": 147,
   "metadata": {},
   "outputs": [
    {
     "data": {
      "text/plain": [
       "array([-0.71691991])"
      ]
     },
     "execution_count": 147,
     "metadata": {},
     "output_type": "execute_result"
    }
   ],
   "source": [
    "import numpy as np\n",
    "from amuse.units.constants import G\n",
    "\n",
    "#eccentricities\n",
    "mu = G * (1 / sun_and_planets[sun_and_planets.name == 'SUN'].mass + \n",
    "          1 / sun_and_planets[sun_and_planets.name == 'Nemesis'].mass)**-1\n",
    "#mu = 1.327124E20 | (units.m**-1)\n",
    "\n",
    "hsun = np.cross(sun_and_planets[sun_and_planets.name == 'SUN'].position,\n",
    "                sun_and_planets[sun_and_planets.name == 'SUN'].velocity)\n",
    "hnem = np.cross(sun_and_planets[sun_and_planets.name == 'Nemesis'].position,\n",
    "                sun_and_planets[sun_and_planets.name == 'Nemesis'].velocity)\n",
    "\n",
    "esun = np.cross(sun_and_planets[sun_and_planets.name == 'SUN'].velocity,\n",
    "                hsun)[0, 0] / mu - sun_and_planets[sun_and_planets.name == 'SUN'].position[0, 0] / sun_and_planets[sun_and_planets.name == 'SUN'].position[0, 0]\n",
    "\n",
    "\n",
    "enem = np.cross(sun_and_planets[sun_and_planets.name == 'Nemesis'].velocity,\n",
    "                hsun)[0, 0] / mu - sun_and_planets[sun_and_planets.name == 'Nemesis'].position[0, 0] / sun_and_planets[sun_and_planets.name == 'Nemesis'].position[0, 0]\n",
    "enem"
   ]
  },
  {
   "cell_type": "code",
   "execution_count": 203,
   "metadata": {},
   "outputs": [
    {
     "data": {
      "text/plain": [
       "array([ 37.20495741])"
      ]
     },
     "execution_count": 203,
     "metadata": {},
     "output_type": "execute_result"
    }
   ],
   "source": [
    "hsuntot = np.linalg.norm(hsun)**2\n",
    "energy = sun_and_planets.potential_energy() + sun_and_planets.kinetic_energy()\n",
    "spenergy = abs(energy) / mu * G\n",
    "esun = np.sqrt(1 + (2 * spenergy * hsuntot/ mu**2))\n",
    "hnemtot = np.linalg.norm(hnem)**2\n",
    "enem = np.sqrt(1 + (2 * spenergy * hnemtot/ mu**2))\n",
    "enem"
   ]
  },
  {
   "cell_type": "code",
   "execution_count": 160,
   "metadata": {},
   "outputs": [],
   "source": [
    "#semi-major axis\n",
    "v = np.linalg.norm(sun_and_planets[sun_and_planets.name == 'Nemesis'].velocity)**2\n",
    "anem = (2 / sun_and_planets[sun_and_planets.name == 'Nemesis'].position[0, 0] - v / mu)**-1\n",
    "v = np.linalg.norm(sun_and_planets[sun_and_planets.name == 'SUN'].velocity)**2\n",
    "asun = (2 / sun_and_planets[sun_and_planets.name == 'SUN'].position[0, 0] - v / mu)**-1\n",
    "print(anem.in_(units.au), asun.in_(units.au))"
   ]
  },
  {
   "cell_type": "code",
   "execution_count": 204,
   "metadata": {},
   "outputs": [],
   "source": [
    "#Question 1\n",
    "\n",
    "\n",
    "\n"
   ]
  },
  {
   "cell_type": "code",
   "execution_count": 293,
   "metadata": {},
   "outputs": [
    {
     "name": "stdout",
     "output_type": "stream",
     "text": [
      "                 key         mass       radius           vx           vy           vz            x            y            z\n",
      "                   -         MSun         RSun        m / s        m / s        m / s           km           km           km\n",
      "====================  ===========  ===========  ===========  ===========  ===========  ===========  ===========  ===========\n",
      "14454095411750045691    1.000e+00    1.000e+00    8.171e-02    1.357e-01   -1.943e-03    5.853e+02   -2.589e+02   -1.437e+01\n",
      "15421940637643794334    2.448e-06    4.351e-03   -2.978e+04   -1.886e+04    7.948e+02   -5.721e+07    9.080e+07    5.882e+06\n",
      "14673079673411234905    3.003e-06    9.160e-03   -2.935e+03   -2.981e+04   -7.411e-01   -1.483e+08    1.220e+07   -8.567e+03\n",
      "====================  ===========  ===========  ===========  ===========  ===========  ===========  ===========  ===========\n"
     ]
    },
    {
     "data": {
      "image/png": "[encoded data removed]",
      "text/plain": [
       "<Figure size 432x288 with 1 Axes>"
      ]
     },
     "metadata": {
      "needs_background": "light"
     },
     "output_type": "display_data"
    }
   ],
   "source": [
    "#Assignement 2\n",
    "\n",
    "#Example for Earth and Venus\n",
    "from amuse.lab import Particles, units\n",
    "def sun_venus_and_earth():\n",
    "    particles = Particles(3)\n",
    "    sun = particles[0]\n",
    "    sun.mass = 1.0 | units.MSun\n",
    "    sun.radius = 1.0 | units.RSun\n",
    "    sun.position = (855251, -804836, -3186) |units.km \n",
    "    sun.velocity = (7.893, 11.894, 0.20642) | (units.m/units.s)\n",
    "    \n",
    "    venus = particles[1]\n",
    "    venus.mass = 0.0025642 | units.MJupiter\n",
    "    venus.radius = 3026.0 | units.km\n",
    "    venus.position = (-0.3767, 0.60159, 0.03930) | units.AU \n",
    "    venus.velocity = (-29.7725, -18.849, 0.795) | units.kms\n",
    "    \n",
    "    earth = particles[2]\n",
    "    earth.mass = 1.0 | units.MEarth\n",
    "    earth.radius = 1.0 | units.REarth\n",
    "    earth.position = (-0.98561, 0.0762, -7.847e-5) | units.AU \n",
    "    earth.velocity = (-2.927, -29.803, -0.0005327) | units.kms\n",
    "    \n",
    "    particles.move_to_center() \n",
    "    return particles\n",
    "\n",
    "\n",
    "def integrate_solar_system(particles, end_time):\n",
    "    from amuse.lab import nbody_system\n",
    "    from amuse.community.ph4.interface import ph4\n",
    "    convert_nbody = nbody_system.nbody_to_si(particles.mass.sum(),\n",
    "                                                particles[1].position.length())\n",
    "    gravity = ph4(convert_nbody) \n",
    "    gravity.particles.add_particles(particles) \n",
    "    venus = gravity.particles[1]\n",
    "    earth = gravity.particles[2]\n",
    "    \n",
    "    x_earth = [] | units.AU \n",
    "    y_earth = [] | units.AU \n",
    "    x_venus = [] | units.AU \n",
    "    y_venus = [] | units.AU\n",
    "    while gravity.model_time < end_time: \n",
    "        gravity.evolve_model(gravity.model_time + (1 | units.day)) \n",
    "        x_earth.append(earth.x)\n",
    "        y_earth.append(earth.y)\n",
    "        x_venus.append(venus.x)\n",
    "        y_venus.append(venus.y)\n",
    "    gravity.stop()\n",
    "    return x_earth, y_earth, x_venus, y_venus, particles\n",
    "\n",
    "\n",
    "from matplotlib import pyplot\n",
    "from amuse.plot import scatter, xlabel, ylabel \n",
    "from amuse.io import read_set_from_file\n",
    "from amuse.units import units\n",
    "def plot(x, y):\n",
    "    #pyplot.figure(figsize=(8,8))\n",
    "    colormap = [\"yellow\", \"green\", \"blue\"] # specific to a 3-body plot \n",
    "    size = [40, 20, 20]\n",
    "    edgecolor = [\"orange\" ,\"green\", \"blue\"]\n",
    "    #for si in particles.history:\n",
    "    for si in range(len(x)):\n",
    "        #scatter(si.x, si.y, c=colormap, s=size, edgecolor=edgecolor)\n",
    "        scatter(x[si], y[si])\n",
    "    #xlabel(\"x\")\n",
    "    #ylabel(\"y\")\n",
    "    #save_file = \"plot_gravity.png\" \n",
    "    #pyplot.savefig(save_file)\n",
    "    #print(\"\\nSaved figure in file\", save_file,\"\\n\")\n",
    "    #pyplot.show()\n",
    "    \n",
    "    \n",
    "particles = sun_venus_and_earth()\n",
    "print(particles)\n",
    "x_earth, y_earth, x_venus, y_venus, particles = integrate_solar_system(particles, 0.5 | units.yr)\n",
    "plot(x_earth, y_earth)\n",
    "plot(x_venus, y_venus)\n",
    "pyplot.show()"
   ]
  },
  {
   "cell_type": "markdown",
   "metadata": {},
   "source": [
    "Add 100 zero-mass Oort cloud object in circular orbits around the Sun with semi-major axes equally spaced between 10000au and 50000 au. Integrate those orbits for 10 full orbits of the Sun-Nemesis binary. Make a scatter plot of eccentricity as function of the semi-major axis for the initial and final Oort-cloud objects. Explain the figure."
   ]
  },
  {
   "cell_type": "code",
   "execution_count": 361,
   "metadata": {},
   "outputs": [
    {
     "data": {
      "text/plain": [
       "<amuse.datamodel.particles.Particles at 0x114b6b970>"
      ]
     },
     "execution_count": 361,
     "metadata": {},
     "output_type": "execute_result"
    }
   ],
   "source": [
    "#True exercise\n",
    "#print(sun_and_planets)\n",
    "n = 100\n",
    "clouds = Particles(100)\n",
    "clouds.mass = 0 | units.MSun\n",
    "a = np.linspace(10000, 50000, 100)\n",
    "clouds.x = a | units.au\n",
    "clouds.y = 0 | units.au\n",
    "clouds.z = 0 | units.au\n",
    "\n",
    "clouds\n"
   ]
  },
  {
   "cell_type": "code",
   "execution_count": 362,
   "metadata": {},
   "outputs": [
    {
     "name": "stdout",
     "output_type": "stream",
     "text": [
      "                 key         mass           vx           vy           vz            x            y            z\n",
      "                   -         MSun          kms          kms          kms           au           au           au\n",
      "====================  ===========  ===========  ===========  ===========  ===========  ===========  ===========\n",
      " 1644343517549945506    0.000e+00    0.000e+00    2.979e-01    0.000e+00    5.255e+03    0.000e+00    0.000e+00\n",
      "  265679246665530786    0.000e+00    0.000e+00    2.920e-01    0.000e+00    5.659e+03    0.000e+00    0.000e+00\n",
      "10384152783939893843    0.000e+00    0.000e+00    2.865e-01    0.000e+00    6.063e+03    0.000e+00    0.000e+00\n",
      "15772414830918505356    0.000e+00    0.000e+00    2.813e-01    0.000e+00    6.467e+03    0.000e+00    0.000e+00\n",
      " 7064038295808090521    0.000e+00    0.000e+00    2.764e-01    0.000e+00    6.871e+03    0.000e+00    0.000e+00\n",
      "15941164363803937203    0.000e+00    0.000e+00    2.717e-01    0.000e+00    7.276e+03    0.000e+00    0.000e+00\n",
      " 3860095801297514775    0.000e+00    0.000e+00    2.672e-01    0.000e+00    7.680e+03    0.000e+00    0.000e+00\n",
      "12734872979313481598    0.000e+00    0.000e+00    2.630e-01    0.000e+00    8.084e+03    0.000e+00    0.000e+00\n",
      " 8218207559326872170    0.000e+00    0.000e+00    2.590e-01    0.000e+00    8.488e+03    0.000e+00    0.000e+00\n",
      " 1923915711072438645    0.000e+00    0.000e+00    2.551e-01    0.000e+00    8.892e+03    0.000e+00    0.000e+00\n",
      " 7201497496812783143    0.000e+00    0.000e+00    2.514e-01    0.000e+00    9.296e+03    0.000e+00    0.000e+00\n",
      " 7577335127005473465    0.000e+00    0.000e+00    2.479e-01    0.000e+00    9.700e+03    0.000e+00    0.000e+00\n",
      " 8354475196134138563    0.000e+00    0.000e+00    2.445e-01    0.000e+00    1.010e+04    0.000e+00    0.000e+00\n",
      " 2687531629859452876    0.000e+00    0.000e+00    2.412e-01    0.000e+00    1.051e+04    0.000e+00    0.000e+00\n",
      " 2432866130534039445    0.000e+00    0.000e+00    2.381e-01    0.000e+00    1.091e+04    0.000e+00    0.000e+00\n",
      "17337434488453872245    0.000e+00    0.000e+00    2.351e-01    0.000e+00    1.132e+04    0.000e+00    0.000e+00\n",
      "12202722341522776050    0.000e+00    0.000e+00    2.322e-01    0.000e+00    1.172e+04    0.000e+00    0.000e+00\n",
      "11301241006541686876    0.000e+00    0.000e+00    2.294e-01    0.000e+00    1.212e+04    0.000e+00    0.000e+00\n",
      "11734099051460311859    0.000e+00    0.000e+00    2.267e-01    0.000e+00    1.253e+04    0.000e+00    0.000e+00\n",
      " 2368812614384404518    0.000e+00    0.000e+00    2.241e-01    0.000e+00    1.293e+04    0.000e+00    0.000e+00\n",
      "                 ...          ...          ...          ...          ...          ...          ...          ...\n",
      "12340930028115120714    0.000e+00    0.000e+00    1.448e-01    0.000e+00    3.758e+04    0.000e+00    0.000e+00\n",
      " 9107499344857854683    0.000e+00    0.000e+00    1.441e-01    0.000e+00    3.798e+04    0.000e+00    0.000e+00\n",
      " 7613200043185004982    0.000e+00    0.000e+00    1.434e-01    0.000e+00    3.839e+04    0.000e+00    0.000e+00\n",
      "12861494012520059246    0.000e+00    0.000e+00    1.428e-01    0.000e+00    3.879e+04    0.000e+00    0.000e+00\n",
      " 4353511966004461304    0.000e+00    0.000e+00    1.421e-01    0.000e+00    3.919e+04    0.000e+00    0.000e+00\n",
      "18211746337152475968    0.000e+00    0.000e+00    1.415e-01    0.000e+00    3.960e+04    0.000e+00    0.000e+00\n",
      "  756032834188667728    0.000e+00    0.000e+00    1.408e-01    0.000e+00    4.000e+04    0.000e+00    0.000e+00\n",
      " 2381154705504138971    0.000e+00    0.000e+00    1.402e-01    0.000e+00    4.041e+04    0.000e+00    0.000e+00\n",
      " 6830505607375111810    0.000e+00    0.000e+00    1.396e-01    0.000e+00    4.081e+04    0.000e+00    0.000e+00\n",
      " 5663624556744426971    0.000e+00    0.000e+00    1.390e-01    0.000e+00    4.121e+04    0.000e+00    0.000e+00\n",
      "15312561139390696156    0.000e+00    0.000e+00    1.383e-01    0.000e+00    4.162e+04    0.000e+00    0.000e+00\n",
      "11413380511695083244    0.000e+00    0.000e+00    1.377e-01    0.000e+00    4.202e+04    0.000e+00    0.000e+00\n",
      "12860037385729713364    0.000e+00    0.000e+00    1.372e-01    0.000e+00    4.243e+04    0.000e+00    0.000e+00\n",
      "17017838534827249435    0.000e+00    0.000e+00    1.366e-01    0.000e+00    4.283e+04    0.000e+00    0.000e+00\n",
      "  352639034335906574    0.000e+00    0.000e+00    1.360e-01    0.000e+00    4.324e+04    0.000e+00    0.000e+00\n",
      " 7500924284598236819    0.000e+00    0.000e+00    1.354e-01    0.000e+00    4.364e+04    0.000e+00    0.000e+00\n",
      "15497613338211259685    0.000e+00    0.000e+00    1.349e-01    0.000e+00    4.404e+04    0.000e+00    0.000e+00\n",
      " 1827612691702124023    0.000e+00    0.000e+00    1.343e-01    0.000e+00    4.445e+04    0.000e+00    0.000e+00\n",
      " 4450034421671598848    0.000e+00    0.000e+00    1.338e-01    0.000e+00    4.485e+04    0.000e+00    0.000e+00\n",
      " 9427877199923057268    0.000e+00    0.000e+00    1.332e-01    0.000e+00    4.526e+04    0.000e+00    0.000e+00\n",
      "====================  ===========  ===========  ===========  ===========  ===========  ===========  ===========\n"
     ]
    }
   ],
   "source": [
    "def relative_orbital_velocity(mass, distance):\n",
    "    return (G*mass/distance).sqrt()\n",
    "\n",
    "vorb = relative_orbital_velocity(1 | units.MSun, clouds.x)\n",
    "clouds.vx = 0 | units.kms\n",
    "clouds.vy = vorb.in_(units.kms)\n",
    "clouds.vz = 0 | units.kms\n",
    "clouds.x += sun_and_planets[sun_and_planets.name == 'SUN'].x\n",
    "print(clouds)"
   ]
  },
  {
   "cell_type": "code",
   "execution_count": 363,
   "metadata": {},
   "outputs": [
    {
     "data": {
      "text/plain": [
       "<amuse.datamodel.particles.Particle at 0x114b70b80>"
      ]
     },
     "execution_count": 363,
     "metadata": {},
     "output_type": "execute_result"
    }
   ],
   "source": [
    "sun_and_planets.add_particle(clouds)"
   ]
  },
  {
   "cell_type": "code",
   "execution_count": 367,
   "metadata": {},
   "outputs": [
    {
     "name": "stdout",
     "output_type": "stream",
     "text": [
      "                 key         mass         name       radius           vx           vy           vz            x            y            z\n",
      "                   -         MSun         none         RSun       km / s       km / s       km / s           AU           AU           AU\n",
      "====================  ===========  ===========  ===========  ===========  ===========  ===========  ===========  ===========  ===========\n",
      "13752587093574097832    1.000e+00          SUN    1.000e+00    0.000e+00   -4.198e-02    0.000e+00   -4.745e+03    0.000e+00    0.000e+00\n",
      " 8342027849583256292    1.660e-07      MERCURY    5.654e-03    1.032e+01   -4.217e+01   -4.389e+00   -4.745e+03   -1.769e-01    2.080e-02\n",
      " 9393699100414041471    2.448e-06        VENUS    1.403e-02   -1.704e+01    3.046e+01    1.400e+00   -4.744e+03    3.499e-01   -3.179e-02\n",
      "17408050872179155351    3.040e-06     EARTHMOO    1.482e-02    2.845e+01    6.939e+00    1.967e-05   -4.744e+03   -9.875e-01   -4.543e-06\n",
      "14850583428464267834    3.227e-07         MARS    7.853e-03   -2.298e+01    5.959e+00    6.907e-01   -4.744e+03    1.526e+00    2.578e-02\n",
      " 7983021458307047247    9.548e-04      JUPITER    1.619e-01    2.874e+00    1.329e+01   -1.196e-01   -4.740e+03   -1.160e+00   -1.036e-01\n",
      "12650977282405683518    2.859e-04       SATURN    1.342e-01   -4.792e+00    8.613e+00    3.990e-02   -4.736e+03    4.125e+00   -4.035e-01\n",
      " 1007364216008131349    4.366e-05       URANUS    5.834e-02    5.133e+00    4.076e+00   -5.135e-02   -4.732e+03   -1.511e+01   -2.233e-01\n",
      " 5028972974150481456    5.151e-05      NEPTUNE    5.572e-02    4.641e+00    2.777e+00   -1.648e-01   -4.729e+03   -2.592e+01    1.793e-01\n",
      " 6451767505733681558    7.396e-09        PLUTO    3.413e-03    5.146e+00   -2.982e+00   -1.172e+00   -4.756e+03   -2.708e+01    6.229e+00\n",
      "16912148738667916301    2.000e-01      Nemesis    0.000e+00    0.000e+00    2.102e-01    0.000e+00    2.376e+04    0.000e+00    0.000e+00\n",
      " 1644343517549945506    0.000e+00                 0.000e+00    0.000e+00    2.979e-01    0.000e+00    5.255e+03    0.000e+00    0.000e+00\n",
      "  265679246665530786    0.000e+00                 0.000e+00    0.000e+00    2.920e-01    0.000e+00    5.659e+03    0.000e+00    0.000e+00\n",
      "10384152783939893843    0.000e+00                 0.000e+00    0.000e+00    2.865e-01    0.000e+00    6.063e+03    0.000e+00    0.000e+00\n",
      "15772414830918505356    0.000e+00                 0.000e+00    0.000e+00    2.813e-01    0.000e+00    6.467e+03    0.000e+00    0.000e+00\n",
      " 7064038295808090521    0.000e+00                 0.000e+00    0.000e+00    2.764e-01    0.000e+00    6.871e+03    0.000e+00    0.000e+00\n",
      "15941164363803937203    0.000e+00                 0.000e+00    0.000e+00    2.717e-01    0.000e+00    7.276e+03    0.000e+00    0.000e+00\n",
      " 3860095801297514775    0.000e+00                 0.000e+00    0.000e+00    2.672e-01    0.000e+00    7.680e+03    0.000e+00    0.000e+00\n",
      "12734872979313481598    0.000e+00                 0.000e+00    0.000e+00    2.630e-01    0.000e+00    8.084e+03    0.000e+00    0.000e+00\n",
      " 8218207559326872170    0.000e+00                 0.000e+00    0.000e+00    2.590e-01    0.000e+00    8.488e+03    0.000e+00    0.000e+00\n",
      "                 ...          ...          ...          ...          ...          ...          ...          ...          ...          ...\n",
      "12340930028115120714    0.000e+00                 0.000e+00    0.000e+00    1.448e-01    0.000e+00    3.758e+04    0.000e+00    0.000e+00\n",
      " 9107499344857854683    0.000e+00                 0.000e+00    0.000e+00    1.441e-01    0.000e+00    3.798e+04    0.000e+00    0.000e+00\n",
      " 7613200043185004982    0.000e+00                 0.000e+00    0.000e+00    1.434e-01    0.000e+00    3.839e+04    0.000e+00    0.000e+00\n",
      "12861494012520059246    0.000e+00                 0.000e+00    0.000e+00    1.428e-01    0.000e+00    3.879e+04    0.000e+00    0.000e+00\n",
      " 4353511966004461304    0.000e+00                 0.000e+00    0.000e+00    1.421e-01    0.000e+00    3.919e+04    0.000e+00    0.000e+00\n",
      "18211746337152475968    0.000e+00                 0.000e+00    0.000e+00    1.415e-01    0.000e+00    3.960e+04    0.000e+00    0.000e+00\n",
      "  756032834188667728    0.000e+00                 0.000e+00    0.000e+00    1.408e-01    0.000e+00    4.000e+04    0.000e+00    0.000e+00\n",
      " 2381154705504138971    0.000e+00                 0.000e+00    0.000e+00    1.402e-01    0.000e+00    4.041e+04    0.000e+00    0.000e+00\n",
      " 6830505607375111810    0.000e+00                 0.000e+00    0.000e+00    1.396e-01    0.000e+00    4.081e+04    0.000e+00    0.000e+00\n",
      " 5663624556744426971    0.000e+00                 0.000e+00    0.000e+00    1.390e-01    0.000e+00    4.121e+04    0.000e+00    0.000e+00\n",
      "15312561139390696156    0.000e+00                 0.000e+00    0.000e+00    1.383e-01    0.000e+00    4.162e+04    0.000e+00    0.000e+00\n",
      "11413380511695083244    0.000e+00                 0.000e+00    0.000e+00    1.377e-01    0.000e+00    4.202e+04    0.000e+00    0.000e+00\n",
      "12860037385729713364    0.000e+00                 0.000e+00    0.000e+00    1.372e-01    0.000e+00    4.243e+04    0.000e+00    0.000e+00\n",
      "17017838534827249435    0.000e+00                 0.000e+00    0.000e+00    1.366e-01    0.000e+00    4.283e+04    0.000e+00    0.000e+00\n",
      "  352639034335906574    0.000e+00                 0.000e+00    0.000e+00    1.360e-01    0.000e+00    4.324e+04    0.000e+00    0.000e+00\n",
      " 7500924284598236819    0.000e+00                 0.000e+00    0.000e+00    1.354e-01    0.000e+00    4.364e+04    0.000e+00    0.000e+00\n",
      "15497613338211259685    0.000e+00                 0.000e+00    0.000e+00    1.349e-01    0.000e+00    4.404e+04    0.000e+00    0.000e+00\n",
      " 1827612691702124023    0.000e+00                 0.000e+00    0.000e+00    1.343e-01    0.000e+00    4.445e+04    0.000e+00    0.000e+00\n",
      " 4450034421671598848    0.000e+00                 0.000e+00    0.000e+00    1.338e-01    0.000e+00    4.485e+04    0.000e+00    0.000e+00\n",
      " 9427877199923057268    0.000e+00                 0.000e+00    0.000e+00    1.332e-01    0.000e+00    4.526e+04    0.000e+00    0.000e+00\n",
      "====================  ===========  ===========  ===========  ===========  ===========  ===========  ===========  ===========  ===========\n"
     ]
    }
   ],
   "source": [
    "print(sun_and_planets)"
   ]
  },
  {
   "cell_type": "code",
   "execution_count": 369,
   "metadata": {},
   "outputs": [
    {
     "ename": "SyntaxError",
     "evalue": "unexpected EOF while parsing (2644319542.py, line 2)",
     "output_type": "error",
     "traceback": [
      "\u001b[0;36m  File \u001b[0;32m\"/var/folders/bk/5smzcl8n3y1_7z0f4n94v5pm0000gp/T/ipykernel_11380/2644319542.py\"\u001b[0;36m, line \u001b[0;32m2\u001b[0m\n\u001b[0;31m    #print(i)\u001b[0m\n\u001b[0m             ^\u001b[0m\n\u001b[0;31mSyntaxError\u001b[0m\u001b[0;31m:\u001b[0m unexpected EOF while parsing\n"
     ]
    }
   ],
   "source": [
    "for i in range(11, 101):\n",
    "    #print(i)"
   ]
  },
  {
   "cell_type": "code",
   "execution_count": 373,
   "metadata": {},
   "outputs": [],
   "source": [
    "def integrate_solar_system(particles, end_time):\n",
    "    from amuse.lab import nbody_system\n",
    "    from amuse.community.ph4.interface import ph4\n",
    "    convert_nbody = nbody_system.nbody_to_si(particles.mass.sum(),\n",
    "                                                particles[1].position.length())\n",
    "    gravity = ph4(convert_nbody) \n",
    "    gravity.particles.add_particles(particles) \n",
    "    \n",
    "    cloud = gravity.particles[11]\n",
    "    \n",
    "    x = [] | units.AU \n",
    "    y = [] | units.AU \n",
    "    z = [] | units.AU \n",
    "    while gravity.model_time < end_time: \n",
    "        gravity.evolve_model(gravity.model_time + (1 | units.day)) \n",
    "        x.append(cloud.x)\n",
    "        y.append(cloud.y)\n",
    "        z.append(cloud.z)\n",
    "\n",
    "    gravity.stop()\n",
    "    return x, y, z"
   ]
  },
  {
   "cell_type": "code",
   "execution_count": 382,
   "metadata": {},
   "outputs": [],
   "source": [
    "x, y, z = integrate_solar_system(sun_and_planets, 1 | units.yr)"
   ]
  },
  {
   "cell_type": "code",
   "execution_count": 383,
   "metadata": {},
   "outputs": [
    {
     "data": {
      "image/png": "[encoded data removed]",
      "text/plain": [
       "<Figure size 432x288 with 1 Axes>"
      ]
     },
     "metadata": {
      "needs_background": "light"
     },
     "output_type": "display_data"
    }
   ],
   "source": [
    "plot(x, y)"
   ]
  },
  {
   "cell_type": "code",
   "execution_count": null,
   "metadata": {},
   "outputs": [],
   "source": []
  }
 ],
 "metadata": {
  "kernelspec": {
   "display_name": "Python 3 (ipykernel)",
   "language": "python",
   "name": "python3"
  },
  "language_info": {
   "codemirror_mode": {
    "name": "ipython",
    "version": 3
   },
   "file_extension": ".py",
   "mimetype": "text/x-python",
   "name": "python",
   "nbconvert_exporter": "python",
   "pygments_lexer": "ipython3",
   "version": "3.8.12"
  }
 },
 "nbformat": 4,
 "nbformat_minor": 4
}
